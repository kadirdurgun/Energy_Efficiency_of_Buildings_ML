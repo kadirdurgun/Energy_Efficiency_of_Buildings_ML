{
 "cells": [
  {
   "cell_type": "markdown",
   "id": "4b6017a7",
   "metadata": {},
   "source": [
    "# Introduction\n",
    "The dataset contains eight attributes (or features, denoted by X1...X8) and two responses (or outcomes, denoted by y1 and y2). The aim is to use the eight features to predict each of the two responses. I am going to learn Data Science and ML algorithms on this project's path. \n",
    "\n",
    "<font color = 'blue'>\n",
    "Content: \n",
    "\n",
    "1. [Load and Check Data](#1)\n",
    "1. [Outlier Detection](#2)\n",
    "1. [Normalization of Data](#3)    \n",
    "1. [Multiple Linear Regresion](#4)   \n",
    "    * [Before Grid Search](#5)\n",
    "    * [After Grid Search](#6)\n",
    "1.[Decision Tree Regression](#7)\n",
    "     * [Before Grid Search](#8)\n",
    "     * [After Grid Search](#9)\n",
    "1.[Random Forest Regression](#10)\n",
    "    * [Before Grid Search](#11)\n",
    "    * [After Grid Search](#12)\n",
    "        "
   ]
  },
  {
   "cell_type": "markdown",
   "id": "24fada62",
   "metadata": {},
   "source": [
    "<a id = \"1\"></a><br>\n",
    "# Load and Check Data\n",
    "\n",
    "Specifically:\n",
    "\n",
    "* X1 Relative Compactness\n",
    "* X2 Surface Area\n",
    "* X3 Wall Area\n",
    "* X4 Roof Area\n",
    "* X5 Overall Height\n",
    "* X6 Orientation\n",
    "* X7 Glazing Area\n",
    "* X8 Glazing Area Distribution\n",
    "* y1 Heating Load\n",
    "* y2 Cooling Load"
   ]
  },
  {
   "cell_type": "code",
   "execution_count": 1,
   "id": "9fe27c8a",
   "metadata": {},
   "outputs": [
    {
     "data": {
      "text/html": [
       "        <script type=\"text/javascript\">\n",
       "        window.PlotlyConfig = {MathJaxConfig: 'local'};\n",
       "        if (window.MathJax) {MathJax.Hub.Config({SVG: {font: \"STIX-Web\"}});}\n",
       "        if (typeof require !== 'undefined') {\n",
       "        require.undef(\"plotly\");\n",
       "        requirejs.config({\n",
       "            paths: {\n",
       "                'plotly': ['https://cdn.plot.ly/plotly-2.2.0.min']\n",
       "            }\n",
       "        });\n",
       "        require(['plotly'], function(Plotly) {\n",
       "            window._Plotly = Plotly;\n",
       "        });\n",
       "        }\n",
       "        </script>\n",
       "        "
      ]
     },
     "metadata": {},
     "output_type": "display_data"
    }
   ],
   "source": [
    "import numpy as np # linear algebra\n",
    "import pandas as pd # data processing, CSV file I/O (e.g. pd.read_csv)\n",
    "\n",
    "import matplotlib.pyplot as plt\n",
    "plt.style.use(\"seaborn-whitegrid\")\n",
    "\n",
    "import seaborn as sns\n",
    "from collections import Counter\n",
    "\n",
    "import warnings\n",
    "warnings.filterwarnings(\"ignore\")\n",
    "\n",
    "from plotly.offline import init_notebook_mode, iplot, plot\n",
    "import plotly as py\n",
    "init_notebook_mode(connected=True)\n",
    "import plotly.graph_objs as go\n",
    "\n"
   ]
  },
  {
   "cell_type": "code",
   "execution_count": 2,
   "id": "e01d75fb",
   "metadata": {},
   "outputs": [],
   "source": [
    "data = pd.read_csv(\"ENB2012_data.csv\")"
   ]
  },
  {
   "cell_type": "code",
   "execution_count": 4,
   "id": "ced96183",
   "metadata": {},
   "outputs": [
    {
     "data": {
      "text/html": [
       "<div>\n",
       "<style scoped>\n",
       "    .dataframe tbody tr th:only-of-type {\n",
       "        vertical-align: middle;\n",
       "    }\n",
       "\n",
       "    .dataframe tbody tr th {\n",
       "        vertical-align: top;\n",
       "    }\n",
       "\n",
       "    .dataframe thead th {\n",
       "        text-align: right;\n",
       "    }\n",
       "</style>\n",
       "<table border=\"1\" class=\"dataframe\">\n",
       "  <thead>\n",
       "    <tr style=\"text-align: right;\">\n",
       "      <th></th>\n",
       "      <th>relative compactness</th>\n",
       "      <th>surface area</th>\n",
       "      <th>wall area</th>\n",
       "      <th>roof area</th>\n",
       "      <th>overall height</th>\n",
       "      <th>orientation</th>\n",
       "      <th>glazing area</th>\n",
       "      <th>glazing area distribution</th>\n",
       "      <th>heating load</th>\n",
       "      <th>cooling load</th>\n",
       "    </tr>\n",
       "  </thead>\n",
       "  <tbody>\n",
       "    <tr>\n",
       "      <th>0</th>\n",
       "      <td>0.98</td>\n",
       "      <td>514.5</td>\n",
       "      <td>294.0</td>\n",
       "      <td>110.25</td>\n",
       "      <td>7.0</td>\n",
       "      <td>2</td>\n",
       "      <td>0.0</td>\n",
       "      <td>0</td>\n",
       "      <td>15.55</td>\n",
       "      <td>21.33</td>\n",
       "    </tr>\n",
       "    <tr>\n",
       "      <th>1</th>\n",
       "      <td>0.98</td>\n",
       "      <td>514.5</td>\n",
       "      <td>294.0</td>\n",
       "      <td>110.25</td>\n",
       "      <td>7.0</td>\n",
       "      <td>3</td>\n",
       "      <td>0.0</td>\n",
       "      <td>0</td>\n",
       "      <td>15.55</td>\n",
       "      <td>21.33</td>\n",
       "    </tr>\n",
       "    <tr>\n",
       "      <th>2</th>\n",
       "      <td>0.98</td>\n",
       "      <td>514.5</td>\n",
       "      <td>294.0</td>\n",
       "      <td>110.25</td>\n",
       "      <td>7.0</td>\n",
       "      <td>4</td>\n",
       "      <td>0.0</td>\n",
       "      <td>0</td>\n",
       "      <td>15.55</td>\n",
       "      <td>21.33</td>\n",
       "    </tr>\n",
       "    <tr>\n",
       "      <th>3</th>\n",
       "      <td>0.98</td>\n",
       "      <td>514.5</td>\n",
       "      <td>294.0</td>\n",
       "      <td>110.25</td>\n",
       "      <td>7.0</td>\n",
       "      <td>5</td>\n",
       "      <td>0.0</td>\n",
       "      <td>0</td>\n",
       "      <td>15.55</td>\n",
       "      <td>21.33</td>\n",
       "    </tr>\n",
       "    <tr>\n",
       "      <th>4</th>\n",
       "      <td>0.90</td>\n",
       "      <td>563.5</td>\n",
       "      <td>318.5</td>\n",
       "      <td>122.50</td>\n",
       "      <td>7.0</td>\n",
       "      <td>2</td>\n",
       "      <td>0.0</td>\n",
       "      <td>0</td>\n",
       "      <td>20.84</td>\n",
       "      <td>28.28</td>\n",
       "    </tr>\n",
       "    <tr>\n",
       "      <th>...</th>\n",
       "      <td>...</td>\n",
       "      <td>...</td>\n",
       "      <td>...</td>\n",
       "      <td>...</td>\n",
       "      <td>...</td>\n",
       "      <td>...</td>\n",
       "      <td>...</td>\n",
       "      <td>...</td>\n",
       "      <td>...</td>\n",
       "      <td>...</td>\n",
       "    </tr>\n",
       "    <tr>\n",
       "      <th>763</th>\n",
       "      <td>0.64</td>\n",
       "      <td>784.0</td>\n",
       "      <td>343.0</td>\n",
       "      <td>220.50</td>\n",
       "      <td>3.5</td>\n",
       "      <td>5</td>\n",
       "      <td>0.4</td>\n",
       "      <td>5</td>\n",
       "      <td>17.88</td>\n",
       "      <td>21.40</td>\n",
       "    </tr>\n",
       "    <tr>\n",
       "      <th>764</th>\n",
       "      <td>0.62</td>\n",
       "      <td>808.5</td>\n",
       "      <td>367.5</td>\n",
       "      <td>220.50</td>\n",
       "      <td>3.5</td>\n",
       "      <td>2</td>\n",
       "      <td>0.4</td>\n",
       "      <td>5</td>\n",
       "      <td>16.54</td>\n",
       "      <td>16.88</td>\n",
       "    </tr>\n",
       "    <tr>\n",
       "      <th>765</th>\n",
       "      <td>0.62</td>\n",
       "      <td>808.5</td>\n",
       "      <td>367.5</td>\n",
       "      <td>220.50</td>\n",
       "      <td>3.5</td>\n",
       "      <td>3</td>\n",
       "      <td>0.4</td>\n",
       "      <td>5</td>\n",
       "      <td>16.44</td>\n",
       "      <td>17.11</td>\n",
       "    </tr>\n",
       "    <tr>\n",
       "      <th>766</th>\n",
       "      <td>0.62</td>\n",
       "      <td>808.5</td>\n",
       "      <td>367.5</td>\n",
       "      <td>220.50</td>\n",
       "      <td>3.5</td>\n",
       "      <td>4</td>\n",
       "      <td>0.4</td>\n",
       "      <td>5</td>\n",
       "      <td>16.48</td>\n",
       "      <td>16.61</td>\n",
       "    </tr>\n",
       "    <tr>\n",
       "      <th>767</th>\n",
       "      <td>0.62</td>\n",
       "      <td>808.5</td>\n",
       "      <td>367.5</td>\n",
       "      <td>220.50</td>\n",
       "      <td>3.5</td>\n",
       "      <td>5</td>\n",
       "      <td>0.4</td>\n",
       "      <td>5</td>\n",
       "      <td>16.64</td>\n",
       "      <td>16.03</td>\n",
       "    </tr>\n",
       "  </tbody>\n",
       "</table>\n",
       "<p>768 rows × 10 columns</p>\n",
       "</div>"
      ],
      "text/plain": [
       "     relative compactness  surface area  wall area  roof area  overall height  \\\n",
       "0                    0.98         514.5      294.0     110.25             7.0   \n",
       "1                    0.98         514.5      294.0     110.25             7.0   \n",
       "2                    0.98         514.5      294.0     110.25             7.0   \n",
       "3                    0.98         514.5      294.0     110.25             7.0   \n",
       "4                    0.90         563.5      318.5     122.50             7.0   \n",
       "..                    ...           ...        ...        ...             ...   \n",
       "763                  0.64         784.0      343.0     220.50             3.5   \n",
       "764                  0.62         808.5      367.5     220.50             3.5   \n",
       "765                  0.62         808.5      367.5     220.50             3.5   \n",
       "766                  0.62         808.5      367.5     220.50             3.5   \n",
       "767                  0.62         808.5      367.5     220.50             3.5   \n",
       "\n",
       "     orientation  glazing area  glazing area distribution  heating load  \\\n",
       "0              2           0.0                          0         15.55   \n",
       "1              3           0.0                          0         15.55   \n",
       "2              4           0.0                          0         15.55   \n",
       "3              5           0.0                          0         15.55   \n",
       "4              2           0.0                          0         20.84   \n",
       "..           ...           ...                        ...           ...   \n",
       "763            5           0.4                          5         17.88   \n",
       "764            2           0.4                          5         16.54   \n",
       "765            3           0.4                          5         16.44   \n",
       "766            4           0.4                          5         16.48   \n",
       "767            5           0.4                          5         16.64   \n",
       "\n",
       "     cooling load  \n",
       "0           21.33  \n",
       "1           21.33  \n",
       "2           21.33  \n",
       "3           21.33  \n",
       "4           28.28  \n",
       "..            ...  \n",
       "763         21.40  \n",
       "764         16.88  \n",
       "765         17.11  \n",
       "766         16.61  \n",
       "767         16.03  \n",
       "\n",
       "[768 rows x 10 columns]"
      ]
     },
     "execution_count": 4,
     "metadata": {},
     "output_type": "execute_result"
    }
   ],
   "source": [
    "data.columns = [\"Relative Compactness\",\"Surface Area\",\"Wall Area\",\"Roof Area\",\"Overall Height\",\"Orientation\",\"Glazing Area\",\"Glazing Area Distribution\",\"Heating Load\",\"Cooling Load\"]\n",
    "data.columns = map(str.lower, data.columns)\n",
    "data\n"
   ]
  },
  {
   "cell_type": "code",
   "execution_count": 5,
   "id": "722c02aa",
   "metadata": {},
   "outputs": [
    {
     "name": "stdout",
     "output_type": "stream",
     "text": [
      "<class 'pandas.core.frame.DataFrame'>\n",
      "RangeIndex: 768 entries, 0 to 767\n",
      "Data columns (total 10 columns):\n",
      " #   Column                     Non-Null Count  Dtype  \n",
      "---  ------                     --------------  -----  \n",
      " 0   relative compactness       768 non-null    float64\n",
      " 1   surface area               768 non-null    float64\n",
      " 2   wall area                  768 non-null    float64\n",
      " 3   roof area                  768 non-null    float64\n",
      " 4   overall height             768 non-null    float64\n",
      " 5   orientation                768 non-null    int64  \n",
      " 6   glazing area               768 non-null    float64\n",
      " 7   glazing area distribution  768 non-null    int64  \n",
      " 8   heating load               768 non-null    float64\n",
      " 9   cooling load               768 non-null    float64\n",
      "dtypes: float64(8), int64(2)\n",
      "memory usage: 60.1 KB\n"
     ]
    }
   ],
   "source": [
    "data.info()"
   ]
  },
  {
   "cell_type": "code",
   "execution_count": 6,
   "id": "91dbff14",
   "metadata": {},
   "outputs": [
    {
     "name": "stdout",
     "output_type": "stream",
     "text": [
      "Number of unique values for  *relative compactness*  is == 12\n",
      "-------------------------------------------------\n",
      "Number of unique values for  *surface area*  is == 12\n",
      "-------------------------------------------------\n",
      "Number of unique values for  *wall area*  is == 7\n",
      "-------------------------------------------------\n",
      "Number of unique values for  *roof area*  is == 4\n",
      "-------------------------------------------------\n",
      "Number of unique values for  *overall height*  is == 2\n",
      "-------------------------------------------------\n",
      "Number of unique values for  *orientation*  is == 4\n",
      "-------------------------------------------------\n",
      "Number of unique values for  *glazing area*  is == 4\n",
      "-------------------------------------------------\n",
      "Number of unique values for  *glazing area distribution*  is == 6\n",
      "-------------------------------------------------\n",
      "Number of unique values for  *heating load*  is == 586\n",
      "-------------------------------------------------\n",
      "Number of unique values for  *cooling load*  is == 636\n",
      "-------------------------------------------------\n"
     ]
    }
   ],
   "source": [
    "column_list = [\"relative compactness\",\"surface area\",\"wall area\",\"roof area\",\"overall height\",\"orientation\",\"glazing area\",\"glazing area distribution\",\"heating load\",\"cooling load\"]\n",
    "\n",
    "for i in column_list:\n",
    "    print(\"Number of unique values for  *{}*  is == {}\".format(str(i),str(data[i].nunique())))\n",
    "    print(\"-------------------------------------------------\")"
   ]
  },
  {
   "cell_type": "markdown",
   "id": "919d6710",
   "metadata": {},
   "source": [
    "<a id = \"2\"></a><br>\n",
    "# Outlier Detection"
   ]
  },
  {
   "cell_type": "code",
   "execution_count": 7,
   "id": "6673bda4",
   "metadata": {},
   "outputs": [],
   "source": [
    "def detect_outliers(data,features):\n",
    "    outlier_indices = []\n",
    "    \n",
    "    for c in features:\n",
    "        # 1st quartile\n",
    "        Q1 = np.percentile(data[c],25)\n",
    "        # 3rd quartile\n",
    "        Q3 = np.percentile(data[c],75)\n",
    "        # IQR\n",
    "        IQR = Q3 - Q1\n",
    "        # Outlier step\n",
    "        outlier_step = IQR * 0.75\n",
    "        # detect outlier and their indeces\n",
    "        outlier_list_col = data[(data[c] < Q1 - outlier_step) | (data[c] > Q3 + outlier_step)].index\n",
    "        # store indeces\n",
    "        outlier_indices.extend(outlier_list_col)\n",
    "    \n",
    "    outlier_indices = Counter(outlier_indices)\n",
    "    multiple_outliers = list(i for i, v in outlier_indices.items() if v > 2)\n",
    "    \n",
    "    return multiple_outliers"
   ]
  },
  {
   "cell_type": "code",
   "execution_count": 8,
   "id": "abdbedbe",
   "metadata": {},
   "outputs": [
    {
     "data": {
      "text/html": [
       "<div>\n",
       "<style scoped>\n",
       "    .dataframe tbody tr th:only-of-type {\n",
       "        vertical-align: middle;\n",
       "    }\n",
       "\n",
       "    .dataframe tbody tr th {\n",
       "        vertical-align: top;\n",
       "    }\n",
       "\n",
       "    .dataframe thead th {\n",
       "        text-align: right;\n",
       "    }\n",
       "</style>\n",
       "<table border=\"1\" class=\"dataframe\">\n",
       "  <thead>\n",
       "    <tr style=\"text-align: right;\">\n",
       "      <th></th>\n",
       "      <th>relative compactness</th>\n",
       "      <th>surface area</th>\n",
       "      <th>wall area</th>\n",
       "      <th>roof area</th>\n",
       "      <th>overall height</th>\n",
       "      <th>orientation</th>\n",
       "      <th>glazing area</th>\n",
       "      <th>glazing area distribution</th>\n",
       "      <th>heating load</th>\n",
       "      <th>cooling load</th>\n",
       "    </tr>\n",
       "  </thead>\n",
       "  <tbody>\n",
       "  </tbody>\n",
       "</table>\n",
       "</div>"
      ],
      "text/plain": [
       "Empty DataFrame\n",
       "Columns: [relative compactness, surface area, wall area, roof area, overall height, orientation, glazing area, glazing area distribution, heating load, cooling load]\n",
       "Index: []"
      ]
     },
     "execution_count": 8,
     "metadata": {},
     "output_type": "execute_result"
    }
   ],
   "source": [
    "data.loc[detect_outliers(data,[\"relative compactness\",\"surface area\",\"wall area\",\"roof area\",\"overall height\",\"orientation\",\"glazing area\",\"glazing area distribution\",\"heating load\",\"cooling load\"])]"
   ]
  },
  {
   "cell_type": "markdown",
   "id": "c9ecb95d",
   "metadata": {},
   "source": [
    "#### As you can see from table above , there is no outlier value in the dataset."
   ]
  },
  {
   "cell_type": "markdown",
   "id": "785a0126",
   "metadata": {},
   "source": [
    "<a id = \"3\"></a><br>\n",
    "# Normalization of Data"
   ]
  },
  {
   "cell_type": "markdown",
   "id": "5d36e3f6",
   "metadata": {},
   "source": [
    "#### Normalization should be done to reduce the effect of relatively high values in the data on model learning."
   ]
  },
  {
   "cell_type": "code",
   "execution_count": 9,
   "id": "3fc647bb",
   "metadata": {},
   "outputs": [
    {
     "data": {
      "text/html": [
       "<div>\n",
       "<style scoped>\n",
       "    .dataframe tbody tr th:only-of-type {\n",
       "        vertical-align: middle;\n",
       "    }\n",
       "\n",
       "    .dataframe tbody tr th {\n",
       "        vertical-align: top;\n",
       "    }\n",
       "\n",
       "    .dataframe thead th {\n",
       "        text-align: right;\n",
       "    }\n",
       "</style>\n",
       "<table border=\"1\" class=\"dataframe\">\n",
       "  <thead>\n",
       "    <tr style=\"text-align: right;\">\n",
       "      <th></th>\n",
       "      <th>relative compactness</th>\n",
       "      <th>surface area</th>\n",
       "      <th>wall area</th>\n",
       "      <th>roof area</th>\n",
       "      <th>overall height</th>\n",
       "      <th>orientation</th>\n",
       "      <th>glazing area</th>\n",
       "      <th>glazing area distribution</th>\n",
       "      <th>heating load</th>\n",
       "      <th>cooling load</th>\n",
       "    </tr>\n",
       "  </thead>\n",
       "  <tbody>\n",
       "    <tr>\n",
       "      <th>0</th>\n",
       "      <td>1.000000</td>\n",
       "      <td>0.000000</td>\n",
       "      <td>0.285714</td>\n",
       "      <td>0.000000</td>\n",
       "      <td>1.0</td>\n",
       "      <td>0.000000</td>\n",
       "      <td>0.0</td>\n",
       "      <td>0.0</td>\n",
       "      <td>0.257212</td>\n",
       "      <td>0.280905</td>\n",
       "    </tr>\n",
       "    <tr>\n",
       "      <th>1</th>\n",
       "      <td>1.000000</td>\n",
       "      <td>0.000000</td>\n",
       "      <td>0.285714</td>\n",
       "      <td>0.000000</td>\n",
       "      <td>1.0</td>\n",
       "      <td>0.333333</td>\n",
       "      <td>0.0</td>\n",
       "      <td>0.0</td>\n",
       "      <td>0.257212</td>\n",
       "      <td>0.280905</td>\n",
       "    </tr>\n",
       "    <tr>\n",
       "      <th>2</th>\n",
       "      <td>1.000000</td>\n",
       "      <td>0.000000</td>\n",
       "      <td>0.285714</td>\n",
       "      <td>0.000000</td>\n",
       "      <td>1.0</td>\n",
       "      <td>0.666667</td>\n",
       "      <td>0.0</td>\n",
       "      <td>0.0</td>\n",
       "      <td>0.257212</td>\n",
       "      <td>0.280905</td>\n",
       "    </tr>\n",
       "    <tr>\n",
       "      <th>3</th>\n",
       "      <td>1.000000</td>\n",
       "      <td>0.000000</td>\n",
       "      <td>0.285714</td>\n",
       "      <td>0.000000</td>\n",
       "      <td>1.0</td>\n",
       "      <td>1.000000</td>\n",
       "      <td>0.0</td>\n",
       "      <td>0.0</td>\n",
       "      <td>0.257212</td>\n",
       "      <td>0.280905</td>\n",
       "    </tr>\n",
       "    <tr>\n",
       "      <th>4</th>\n",
       "      <td>0.777778</td>\n",
       "      <td>0.166667</td>\n",
       "      <td>0.428571</td>\n",
       "      <td>0.111111</td>\n",
       "      <td>1.0</td>\n",
       "      <td>0.000000</td>\n",
       "      <td>0.0</td>\n",
       "      <td>0.0</td>\n",
       "      <td>0.399838</td>\n",
       "      <td>0.468085</td>\n",
       "    </tr>\n",
       "    <tr>\n",
       "      <th>5</th>\n",
       "      <td>0.777778</td>\n",
       "      <td>0.166667</td>\n",
       "      <td>0.428571</td>\n",
       "      <td>0.111111</td>\n",
       "      <td>1.0</td>\n",
       "      <td>0.333333</td>\n",
       "      <td>0.0</td>\n",
       "      <td>0.0</td>\n",
       "      <td>0.416554</td>\n",
       "      <td>0.389981</td>\n",
       "    </tr>\n",
       "    <tr>\n",
       "      <th>6</th>\n",
       "      <td>0.777778</td>\n",
       "      <td>0.166667</td>\n",
       "      <td>0.428571</td>\n",
       "      <td>0.111111</td>\n",
       "      <td>1.0</td>\n",
       "      <td>0.666667</td>\n",
       "      <td>0.0</td>\n",
       "      <td>0.0</td>\n",
       "      <td>0.396333</td>\n",
       "      <td>0.384056</td>\n",
       "    </tr>\n",
       "    <tr>\n",
       "      <th>7</th>\n",
       "      <td>0.777778</td>\n",
       "      <td>0.166667</td>\n",
       "      <td>0.428571</td>\n",
       "      <td>0.111111</td>\n",
       "      <td>1.0</td>\n",
       "      <td>1.000000</td>\n",
       "      <td>0.0</td>\n",
       "      <td>0.0</td>\n",
       "      <td>0.368563</td>\n",
       "      <td>0.503636</td>\n",
       "    </tr>\n",
       "    <tr>\n",
       "      <th>8</th>\n",
       "      <td>0.666667</td>\n",
       "      <td>0.250000</td>\n",
       "      <td>0.285714</td>\n",
       "      <td>0.333333</td>\n",
       "      <td>1.0</td>\n",
       "      <td>0.000000</td>\n",
       "      <td>0.0</td>\n",
       "      <td>0.0</td>\n",
       "      <td>0.363710</td>\n",
       "      <td>0.441691</td>\n",
       "    </tr>\n",
       "    <tr>\n",
       "      <th>9</th>\n",
       "      <td>0.666667</td>\n",
       "      <td>0.250000</td>\n",
       "      <td>0.285714</td>\n",
       "      <td>0.333333</td>\n",
       "      <td>1.0</td>\n",
       "      <td>0.333333</td>\n",
       "      <td>0.0</td>\n",
       "      <td>0.0</td>\n",
       "      <td>0.375843</td>\n",
       "      <td>0.298142</td>\n",
       "    </tr>\n",
       "  </tbody>\n",
       "</table>\n",
       "</div>"
      ],
      "text/plain": [
       "   relative compactness  surface area  wall area  roof area  overall height  \\\n",
       "0              1.000000      0.000000   0.285714   0.000000             1.0   \n",
       "1              1.000000      0.000000   0.285714   0.000000             1.0   \n",
       "2              1.000000      0.000000   0.285714   0.000000             1.0   \n",
       "3              1.000000      0.000000   0.285714   0.000000             1.0   \n",
       "4              0.777778      0.166667   0.428571   0.111111             1.0   \n",
       "5              0.777778      0.166667   0.428571   0.111111             1.0   \n",
       "6              0.777778      0.166667   0.428571   0.111111             1.0   \n",
       "7              0.777778      0.166667   0.428571   0.111111             1.0   \n",
       "8              0.666667      0.250000   0.285714   0.333333             1.0   \n",
       "9              0.666667      0.250000   0.285714   0.333333             1.0   \n",
       "\n",
       "   orientation  glazing area  glazing area distribution  heating load  \\\n",
       "0     0.000000           0.0                        0.0      0.257212   \n",
       "1     0.333333           0.0                        0.0      0.257212   \n",
       "2     0.666667           0.0                        0.0      0.257212   \n",
       "3     1.000000           0.0                        0.0      0.257212   \n",
       "4     0.000000           0.0                        0.0      0.399838   \n",
       "5     0.333333           0.0                        0.0      0.416554   \n",
       "6     0.666667           0.0                        0.0      0.396333   \n",
       "7     1.000000           0.0                        0.0      0.368563   \n",
       "8     0.000000           0.0                        0.0      0.363710   \n",
       "9     0.333333           0.0                        0.0      0.375843   \n",
       "\n",
       "   cooling load  \n",
       "0      0.280905  \n",
       "1      0.280905  \n",
       "2      0.280905  \n",
       "3      0.280905  \n",
       "4      0.468085  \n",
       "5      0.389981  \n",
       "6      0.384056  \n",
       "7      0.503636  \n",
       "8      0.441691  \n",
       "9      0.298142  "
      ]
     },
     "execution_count": 9,
     "metadata": {},
     "output_type": "execute_result"
    }
   ],
   "source": [
    "data = (data-np.min(data)) / (np.max(data) - np.min(data))\n",
    "data .head(10)"
   ]
  },
  {
   "cell_type": "code",
   "execution_count": 10,
   "id": "91b0d5d5",
   "metadata": {},
   "outputs": [
    {
     "data": {
      "text/html": [
       "<div>\n",
       "<style scoped>\n",
       "    .dataframe tbody tr th:only-of-type {\n",
       "        vertical-align: middle;\n",
       "    }\n",
       "\n",
       "    .dataframe tbody tr th {\n",
       "        vertical-align: top;\n",
       "    }\n",
       "\n",
       "    .dataframe thead th {\n",
       "        text-align: right;\n",
       "    }\n",
       "</style>\n",
       "<table border=\"1\" class=\"dataframe\">\n",
       "  <thead>\n",
       "    <tr style=\"text-align: right;\">\n",
       "      <th></th>\n",
       "      <th>relative compactness</th>\n",
       "      <th>surface area</th>\n",
       "      <th>wall area</th>\n",
       "      <th>roof area</th>\n",
       "      <th>overall height</th>\n",
       "      <th>orientation</th>\n",
       "      <th>glazing area</th>\n",
       "      <th>glazing area distribution</th>\n",
       "      <th>heating load</th>\n",
       "      <th>cooling load</th>\n",
       "    </tr>\n",
       "  </thead>\n",
       "  <tbody>\n",
       "    <tr>\n",
       "      <th>count</th>\n",
       "      <td>768.000000</td>\n",
       "      <td>768.000000</td>\n",
       "      <td>768.000000</td>\n",
       "      <td>768.000000</td>\n",
       "      <td>768.000000</td>\n",
       "      <td>768.000000</td>\n",
       "      <td>768.000000</td>\n",
       "      <td>768.000000</td>\n",
       "      <td>768.000000</td>\n",
       "      <td>768.000000</td>\n",
       "    </tr>\n",
       "    <tr>\n",
       "      <th>mean</th>\n",
       "      <td>0.400463</td>\n",
       "      <td>0.534722</td>\n",
       "      <td>0.428571</td>\n",
       "      <td>0.601852</td>\n",
       "      <td>0.500000</td>\n",
       "      <td>0.500000</td>\n",
       "      <td>0.585938</td>\n",
       "      <td>0.562500</td>\n",
       "      <td>0.439396</td>\n",
       "      <td>0.368644</td>\n",
       "    </tr>\n",
       "    <tr>\n",
       "      <th>std</th>\n",
       "      <td>0.293826</td>\n",
       "      <td>0.299613</td>\n",
       "      <td>0.254382</td>\n",
       "      <td>0.409668</td>\n",
       "      <td>0.500326</td>\n",
       "      <td>0.372921</td>\n",
       "      <td>0.333051</td>\n",
       "      <td>0.310192</td>\n",
       "      <td>0.272046</td>\n",
       "      <td>0.256216</td>\n",
       "    </tr>\n",
       "    <tr>\n",
       "      <th>min</th>\n",
       "      <td>0.000000</td>\n",
       "      <td>0.000000</td>\n",
       "      <td>0.000000</td>\n",
       "      <td>0.000000</td>\n",
       "      <td>0.000000</td>\n",
       "      <td>0.000000</td>\n",
       "      <td>0.000000</td>\n",
       "      <td>0.000000</td>\n",
       "      <td>0.000000</td>\n",
       "      <td>0.000000</td>\n",
       "    </tr>\n",
       "    <tr>\n",
       "      <th>25%</th>\n",
       "      <td>0.173611</td>\n",
       "      <td>0.312500</td>\n",
       "      <td>0.285714</td>\n",
       "      <td>0.277778</td>\n",
       "      <td>0.000000</td>\n",
       "      <td>0.250000</td>\n",
       "      <td>0.250000</td>\n",
       "      <td>0.350000</td>\n",
       "      <td>0.188258</td>\n",
       "      <td>0.127121</td>\n",
       "    </tr>\n",
       "    <tr>\n",
       "      <th>50%</th>\n",
       "      <td>0.361111</td>\n",
       "      <td>0.541667</td>\n",
       "      <td>0.428571</td>\n",
       "      <td>0.666667</td>\n",
       "      <td>0.500000</td>\n",
       "      <td>0.500000</td>\n",
       "      <td>0.625000</td>\n",
       "      <td>0.600000</td>\n",
       "      <td>0.348881</td>\n",
       "      <td>0.301104</td>\n",
       "    </tr>\n",
       "    <tr>\n",
       "      <th>75%</th>\n",
       "      <td>0.583333</td>\n",
       "      <td>0.770833</td>\n",
       "      <td>0.571429</td>\n",
       "      <td>1.000000</td>\n",
       "      <td>1.000000</td>\n",
       "      <td>0.750000</td>\n",
       "      <td>1.000000</td>\n",
       "      <td>0.800000</td>\n",
       "      <td>0.691763</td>\n",
       "      <td>0.598775</td>\n",
       "    </tr>\n",
       "    <tr>\n",
       "      <th>max</th>\n",
       "      <td>1.000000</td>\n",
       "      <td>1.000000</td>\n",
       "      <td>1.000000</td>\n",
       "      <td>1.000000</td>\n",
       "      <td>1.000000</td>\n",
       "      <td>1.000000</td>\n",
       "      <td>1.000000</td>\n",
       "      <td>1.000000</td>\n",
       "      <td>1.000000</td>\n",
       "      <td>1.000000</td>\n",
       "    </tr>\n",
       "  </tbody>\n",
       "</table>\n",
       "</div>"
      ],
      "text/plain": [
       "       relative compactness  surface area   wall area   roof area  \\\n",
       "count            768.000000    768.000000  768.000000  768.000000   \n",
       "mean               0.400463      0.534722    0.428571    0.601852   \n",
       "std                0.293826      0.299613    0.254382    0.409668   \n",
       "min                0.000000      0.000000    0.000000    0.000000   \n",
       "25%                0.173611      0.312500    0.285714    0.277778   \n",
       "50%                0.361111      0.541667    0.428571    0.666667   \n",
       "75%                0.583333      0.770833    0.571429    1.000000   \n",
       "max                1.000000      1.000000    1.000000    1.000000   \n",
       "\n",
       "       overall height  orientation  glazing area  glazing area distribution  \\\n",
       "count      768.000000   768.000000    768.000000                 768.000000   \n",
       "mean         0.500000     0.500000      0.585938                   0.562500   \n",
       "std          0.500326     0.372921      0.333051                   0.310192   \n",
       "min          0.000000     0.000000      0.000000                   0.000000   \n",
       "25%          0.000000     0.250000      0.250000                   0.350000   \n",
       "50%          0.500000     0.500000      0.625000                   0.600000   \n",
       "75%          1.000000     0.750000      1.000000                   0.800000   \n",
       "max          1.000000     1.000000      1.000000                   1.000000   \n",
       "\n",
       "       heating load  cooling load  \n",
       "count    768.000000    768.000000  \n",
       "mean       0.439396      0.368644  \n",
       "std        0.272046      0.256216  \n",
       "min        0.000000      0.000000  \n",
       "25%        0.188258      0.127121  \n",
       "50%        0.348881      0.301104  \n",
       "75%        0.691763      0.598775  \n",
       "max        1.000000      1.000000  "
      ]
     },
     "execution_count": 10,
     "metadata": {},
     "output_type": "execute_result"
    }
   ],
   "source": [
    "data.describe()"
   ]
  },
  {
   "cell_type": "code",
   "execution_count": 11,
   "id": "3b32b33f",
   "metadata": {},
   "outputs": [],
   "source": [
    "X = data.drop([\"heating load\",\"cooling load\"],axis=1)\n",
    "y = data[[\"heating load\",\"cooling load\"]]"
   ]
  },
  {
   "cell_type": "code",
   "execution_count": 12,
   "id": "ee072882",
   "metadata": {},
   "outputs": [],
   "source": [
    "from sklearn.model_selection import train_test_split\n",
    "\n",
    "x_train , x_test , y_train , y_test = train_test_split(X , y , test_size=0.3 , random_state =42)"
   ]
  },
  {
   "cell_type": "markdown",
   "id": "f12f9101",
   "metadata": {},
   "source": [
    "<a id = \"4\"></a><br>\n",
    "# Multiple Linear Regression"
   ]
  },
  {
   "cell_type": "markdown",
   "id": "7f33a117",
   "metadata": {},
   "source": [
    "<a id = \"5\"></a><br>\n",
    "### Multiple Linear Regression Before Grid Search CV"
   ]
  },
  {
   "cell_type": "code",
   "execution_count": 13,
   "id": "04c26f55",
   "metadata": {},
   "outputs": [
    {
     "name": "stdout",
     "output_type": "stream",
     "text": [
      " Before Grid Search CV , Multiple Linear Regression r2 score is : 0.8866323652510355\n"
     ]
    }
   ],
   "source": [
    "from sklearn.linear_model import LinearRegression\n",
    "multiple_linear_reg =LinearRegression()\n",
    "multiple_linear_reg.fit(x_train,y_train)\n",
    "\n",
    "y_predict1 = multiple_linear_reg.predict(x_test)\n",
    "\n",
    "from sklearn.metrics import r2_score\n",
    "r2_score_before = r2_score(y_predict1,y_test)\n",
    "print(\" Before Grid Search CV , Multiple Linear Regression r2 score is : {}\".format(r2_score_before))\n",
    "\n"
   ]
  },
  {
   "cell_type": "code",
   "execution_count": 14,
   "id": "c0d500c4",
   "metadata": {},
   "outputs": [
    {
     "name": "stdout",
     "output_type": "stream",
     "text": [
      "Fitting 5 folds for each of 8 candidates, totalling 40 fits\n"
     ]
    },
    {
     "data": {
      "text/plain": [
       "GridSearchCV(cv=KFold(n_splits=5, random_state=42, shuffle=True),\n",
       "             estimator=RFE(estimator=LinearRegression()),\n",
       "             param_grid=[{'n_features_to_select': [1, 2, 3, 4, 5, 6, 7, 8]}],\n",
       "             return_train_score=True, scoring='r2', verbose=1)"
      ]
     },
     "execution_count": 14,
     "metadata": {},
     "output_type": "execute_result"
    }
   ],
   "source": [
    "from sklearn.model_selection import KFold\n",
    "from sklearn.model_selection import GridSearchCV\n",
    "from sklearn.feature_selection import RFE\n",
    "\n",
    "folds = KFold(n_splits = 5, shuffle = True, random_state = 42)\n",
    "hyper_params = [{'n_features_to_select': list(range(1, 9))}]\n",
    "\n",
    "m_l_r = LinearRegression()\n",
    "m_l_r.fit(x_train, y_train)\n",
    "rfe = RFE(m_l_r)\n",
    "\n",
    "model_cv = GridSearchCV(estimator = rfe, \n",
    "                        param_grid = hyper_params, \n",
    "                        scoring= 'r2', \n",
    "                        cv = folds, \n",
    "                        verbose = 1,\n",
    "                        return_train_score=True)      \n",
    "\n",
    "\n",
    "model_cv.fit(x_train, y_train) \n"
   ]
  },
  {
   "cell_type": "code",
   "execution_count": 15,
   "id": "0febe6b7",
   "metadata": {},
   "outputs": [
    {
     "data": {
      "text/html": [
       "<div>\n",
       "<style scoped>\n",
       "    .dataframe tbody tr th:only-of-type {\n",
       "        vertical-align: middle;\n",
       "    }\n",
       "\n",
       "    .dataframe tbody tr th {\n",
       "        vertical-align: top;\n",
       "    }\n",
       "\n",
       "    .dataframe thead th {\n",
       "        text-align: right;\n",
       "    }\n",
       "</style>\n",
       "<table border=\"1\" class=\"dataframe\">\n",
       "  <thead>\n",
       "    <tr style=\"text-align: right;\">\n",
       "      <th></th>\n",
       "      <th>mean_fit_time</th>\n",
       "      <th>std_fit_time</th>\n",
       "      <th>mean_score_time</th>\n",
       "      <th>std_score_time</th>\n",
       "      <th>param_n_features_to_select</th>\n",
       "      <th>params</th>\n",
       "      <th>split0_test_score</th>\n",
       "      <th>split1_test_score</th>\n",
       "      <th>split2_test_score</th>\n",
       "      <th>split3_test_score</th>\n",
       "      <th>...</th>\n",
       "      <th>mean_test_score</th>\n",
       "      <th>std_test_score</th>\n",
       "      <th>rank_test_score</th>\n",
       "      <th>split0_train_score</th>\n",
       "      <th>split1_train_score</th>\n",
       "      <th>split2_train_score</th>\n",
       "      <th>split3_train_score</th>\n",
       "      <th>split4_train_score</th>\n",
       "      <th>mean_train_score</th>\n",
       "      <th>std_train_score</th>\n",
       "    </tr>\n",
       "  </thead>\n",
       "  <tbody>\n",
       "    <tr>\n",
       "      <th>0</th>\n",
       "      <td>0.008776</td>\n",
       "      <td>0.002776</td>\n",
       "      <td>0.002599</td>\n",
       "      <td>0.000493</td>\n",
       "      <td>1</td>\n",
       "      <td>{'n_features_to_select': 1}</td>\n",
       "      <td>0.772106</td>\n",
       "      <td>0.395934</td>\n",
       "      <td>0.805399</td>\n",
       "      <td>0.412054</td>\n",
       "      <td>...</td>\n",
       "      <td>0.641848</td>\n",
       "      <td>0.194978</td>\n",
       "      <td>8</td>\n",
       "      <td>0.800118</td>\n",
       "      <td>0.462064</td>\n",
       "      <td>0.793892</td>\n",
       "      <td>0.458336</td>\n",
       "      <td>0.788894</td>\n",
       "      <td>0.660661</td>\n",
       "      <td>0.163719</td>\n",
       "    </tr>\n",
       "    <tr>\n",
       "      <th>1</th>\n",
       "      <td>0.008378</td>\n",
       "      <td>0.000489</td>\n",
       "      <td>0.003590</td>\n",
       "      <td>0.000488</td>\n",
       "      <td>2</td>\n",
       "      <td>{'n_features_to_select': 2}</td>\n",
       "      <td>0.789415</td>\n",
       "      <td>0.461784</td>\n",
       "      <td>0.848241</td>\n",
       "      <td>0.498309</td>\n",
       "      <td>...</td>\n",
       "      <td>0.688383</td>\n",
       "      <td>0.171759</td>\n",
       "      <td>7</td>\n",
       "      <td>0.841570</td>\n",
       "      <td>0.521917</td>\n",
       "      <td>0.830107</td>\n",
       "      <td>0.512446</td>\n",
       "      <td>0.830705</td>\n",
       "      <td>0.707349</td>\n",
       "      <td>0.155354</td>\n",
       "    </tr>\n",
       "    <tr>\n",
       "      <th>2</th>\n",
       "      <td>0.006777</td>\n",
       "      <td>0.001589</td>\n",
       "      <td>0.002394</td>\n",
       "      <td>0.000488</td>\n",
       "      <td>3</td>\n",
       "      <td>{'n_features_to_select': 3}</td>\n",
       "      <td>0.789141</td>\n",
       "      <td>0.803159</td>\n",
       "      <td>0.850428</td>\n",
       "      <td>0.832431</td>\n",
       "      <td>...</td>\n",
       "      <td>0.823824</td>\n",
       "      <td>0.023737</td>\n",
       "      <td>6</td>\n",
       "      <td>0.841837</td>\n",
       "      <td>0.835643</td>\n",
       "      <td>0.839454</td>\n",
       "      <td>0.828104</td>\n",
       "      <td>0.830968</td>\n",
       "      <td>0.835201</td>\n",
       "      <td>0.005111</td>\n",
       "    </tr>\n",
       "    <tr>\n",
       "      <th>3</th>\n",
       "      <td>0.005795</td>\n",
       "      <td>0.000980</td>\n",
       "      <td>0.002588</td>\n",
       "      <td>0.000484</td>\n",
       "      <td>4</td>\n",
       "      <td>{'n_features_to_select': 4}</td>\n",
       "      <td>0.807599</td>\n",
       "      <td>0.821309</td>\n",
       "      <td>0.854786</td>\n",
       "      <td>0.853765</td>\n",
       "      <td>...</td>\n",
       "      <td>0.838699</td>\n",
       "      <td>0.020278</td>\n",
       "      <td>5</td>\n",
       "      <td>0.850101</td>\n",
       "      <td>0.849788</td>\n",
       "      <td>0.840816</td>\n",
       "      <td>0.841192</td>\n",
       "      <td>0.840244</td>\n",
       "      <td>0.844428</td>\n",
       "      <td>0.004515</td>\n",
       "    </tr>\n",
       "    <tr>\n",
       "      <th>4</th>\n",
       "      <td>0.005990</td>\n",
       "      <td>0.001092</td>\n",
       "      <td>0.002584</td>\n",
       "      <td>0.000482</td>\n",
       "      <td>5</td>\n",
       "      <td>{'n_features_to_select': 5}</td>\n",
       "      <td>0.868405</td>\n",
       "      <td>0.889594</td>\n",
       "      <td>0.901705</td>\n",
       "      <td>0.913773</td>\n",
       "      <td>...</td>\n",
       "      <td>0.897313</td>\n",
       "      <td>0.016938</td>\n",
       "      <td>3</td>\n",
       "      <td>0.907317</td>\n",
       "      <td>0.904947</td>\n",
       "      <td>0.901702</td>\n",
       "      <td>0.898367</td>\n",
       "      <td>0.898577</td>\n",
       "      <td>0.902182</td>\n",
       "      <td>0.003515</td>\n",
       "    </tr>\n",
       "    <tr>\n",
       "      <th>5</th>\n",
       "      <td>0.003584</td>\n",
       "      <td>0.000495</td>\n",
       "      <td>0.001990</td>\n",
       "      <td>0.000011</td>\n",
       "      <td>6</td>\n",
       "      <td>{'n_features_to_select': 6}</td>\n",
       "      <td>0.868405</td>\n",
       "      <td>0.889594</td>\n",
       "      <td>0.901705</td>\n",
       "      <td>0.913773</td>\n",
       "      <td>...</td>\n",
       "      <td>0.897313</td>\n",
       "      <td>0.016938</td>\n",
       "      <td>3</td>\n",
       "      <td>0.907317</td>\n",
       "      <td>0.904947</td>\n",
       "      <td>0.901702</td>\n",
       "      <td>0.898367</td>\n",
       "      <td>0.898577</td>\n",
       "      <td>0.902182</td>\n",
       "      <td>0.003515</td>\n",
       "    </tr>\n",
       "    <tr>\n",
       "      <th>6</th>\n",
       "      <td>0.003795</td>\n",
       "      <td>0.000741</td>\n",
       "      <td>0.002194</td>\n",
       "      <td>0.000399</td>\n",
       "      <td>7</td>\n",
       "      <td>{'n_features_to_select': 7}</td>\n",
       "      <td>0.869864</td>\n",
       "      <td>0.889924</td>\n",
       "      <td>0.900906</td>\n",
       "      <td>0.914347</td>\n",
       "      <td>...</td>\n",
       "      <td>0.897747</td>\n",
       "      <td>0.016604</td>\n",
       "      <td>1</td>\n",
       "      <td>0.907739</td>\n",
       "      <td>0.905625</td>\n",
       "      <td>0.902672</td>\n",
       "      <td>0.898997</td>\n",
       "      <td>0.899180</td>\n",
       "      <td>0.902843</td>\n",
       "      <td>0.003463</td>\n",
       "    </tr>\n",
       "    <tr>\n",
       "      <th>7</th>\n",
       "      <td>0.004183</td>\n",
       "      <td>0.000402</td>\n",
       "      <td>0.003191</td>\n",
       "      <td>0.000413</td>\n",
       "      <td>8</td>\n",
       "      <td>{'n_features_to_select': 8}</td>\n",
       "      <td>0.870075</td>\n",
       "      <td>0.889914</td>\n",
       "      <td>0.901050</td>\n",
       "      <td>0.914327</td>\n",
       "      <td>...</td>\n",
       "      <td>0.897660</td>\n",
       "      <td>0.016392</td>\n",
       "      <td>2</td>\n",
       "      <td>0.907777</td>\n",
       "      <td>0.905702</td>\n",
       "      <td>0.902749</td>\n",
       "      <td>0.899101</td>\n",
       "      <td>0.899412</td>\n",
       "      <td>0.902948</td>\n",
       "      <td>0.003413</td>\n",
       "    </tr>\n",
       "  </tbody>\n",
       "</table>\n",
       "<p>8 rows × 21 columns</p>\n",
       "</div>"
      ],
      "text/plain": [
       "   mean_fit_time  std_fit_time  mean_score_time  std_score_time  \\\n",
       "0       0.008776      0.002776         0.002599        0.000493   \n",
       "1       0.008378      0.000489         0.003590        0.000488   \n",
       "2       0.006777      0.001589         0.002394        0.000488   \n",
       "3       0.005795      0.000980         0.002588        0.000484   \n",
       "4       0.005990      0.001092         0.002584        0.000482   \n",
       "5       0.003584      0.000495         0.001990        0.000011   \n",
       "6       0.003795      0.000741         0.002194        0.000399   \n",
       "7       0.004183      0.000402         0.003191        0.000413   \n",
       "\n",
       "  param_n_features_to_select                       params  split0_test_score  \\\n",
       "0                          1  {'n_features_to_select': 1}           0.772106   \n",
       "1                          2  {'n_features_to_select': 2}           0.789415   \n",
       "2                          3  {'n_features_to_select': 3}           0.789141   \n",
       "3                          4  {'n_features_to_select': 4}           0.807599   \n",
       "4                          5  {'n_features_to_select': 5}           0.868405   \n",
       "5                          6  {'n_features_to_select': 6}           0.868405   \n",
       "6                          7  {'n_features_to_select': 7}           0.869864   \n",
       "7                          8  {'n_features_to_select': 8}           0.870075   \n",
       "\n",
       "   split1_test_score  split2_test_score  split3_test_score  ...  \\\n",
       "0           0.395934           0.805399           0.412054  ...   \n",
       "1           0.461784           0.848241           0.498309  ...   \n",
       "2           0.803159           0.850428           0.832431  ...   \n",
       "3           0.821309           0.854786           0.853765  ...   \n",
       "4           0.889594           0.901705           0.913773  ...   \n",
       "5           0.889594           0.901705           0.913773  ...   \n",
       "6           0.889924           0.900906           0.914347  ...   \n",
       "7           0.889914           0.901050           0.914327  ...   \n",
       "\n",
       "   mean_test_score  std_test_score  rank_test_score  split0_train_score  \\\n",
       "0         0.641848        0.194978                8            0.800118   \n",
       "1         0.688383        0.171759                7            0.841570   \n",
       "2         0.823824        0.023737                6            0.841837   \n",
       "3         0.838699        0.020278                5            0.850101   \n",
       "4         0.897313        0.016938                3            0.907317   \n",
       "5         0.897313        0.016938                3            0.907317   \n",
       "6         0.897747        0.016604                1            0.907739   \n",
       "7         0.897660        0.016392                2            0.907777   \n",
       "\n",
       "   split1_train_score  split2_train_score  split3_train_score  \\\n",
       "0            0.462064            0.793892            0.458336   \n",
       "1            0.521917            0.830107            0.512446   \n",
       "2            0.835643            0.839454            0.828104   \n",
       "3            0.849788            0.840816            0.841192   \n",
       "4            0.904947            0.901702            0.898367   \n",
       "5            0.904947            0.901702            0.898367   \n",
       "6            0.905625            0.902672            0.898997   \n",
       "7            0.905702            0.902749            0.899101   \n",
       "\n",
       "   split4_train_score  mean_train_score  std_train_score  \n",
       "0            0.788894          0.660661         0.163719  \n",
       "1            0.830705          0.707349         0.155354  \n",
       "2            0.830968          0.835201         0.005111  \n",
       "3            0.840244          0.844428         0.004515  \n",
       "4            0.898577          0.902182         0.003515  \n",
       "5            0.898577          0.902182         0.003515  \n",
       "6            0.899180          0.902843         0.003463  \n",
       "7            0.899412          0.902948         0.003413  \n",
       "\n",
       "[8 rows x 21 columns]"
      ]
     },
     "execution_count": 15,
     "metadata": {},
     "output_type": "execute_result"
    }
   ],
   "source": [
    "cv_results = pd.DataFrame(model_cv.cv_results_)\n",
    "cv_results"
   ]
  },
  {
   "cell_type": "code",
   "execution_count": 16,
   "id": "856150d0",
   "metadata": {},
   "outputs": [
    {
     "data": {
      "text/plain": [
       "<matplotlib.legend.Legend at 0x143813b9dc0>"
      ]
     },
     "execution_count": 16,
     "metadata": {},
     "output_type": "execute_result"
    },
    {
     "data": {
      "image/png": "[encoded data removed]",
      "text/plain": [
       "<Figure size 1152x432 with 1 Axes>"
      ]
     },
     "metadata": {},
     "output_type": "display_data"
    }
   ],
   "source": [
    "plt.figure(figsize=(16,6))\n",
    "\n",
    "plt.plot(cv_results[\"param_n_features_to_select\"], cv_results[\"mean_test_score\"])\n",
    "plt.plot(cv_results[\"param_n_features_to_select\"], cv_results[\"mean_train_score\"])\n",
    "plt.xlabel('number of features')\n",
    "plt.ylabel('r-squared')\n",
    "plt.title(\"Optimal Number of Features\")\n",
    "plt.legend(['test score', 'train score'], loc='upper left')"
   ]
  },
  {
   "cell_type": "markdown",
   "id": "5b91fbe0",
   "metadata": {},
   "source": [
    "<a id = \"6\"></a><br>\n",
    "### Multiple Linear Regression After Grid Search CV"
   ]
  },
  {
   "cell_type": "code",
   "execution_count": 17,
   "id": "6f8c69c0",
   "metadata": {},
   "outputs": [
    {
     "name": "stdout",
     "output_type": "stream",
     "text": [
      " After Grid Search CV , Multiple Linear Regression r2 score is : 0.8994149873458704\n"
     ]
    }
   ],
   "source": [
    "import sklearn\n",
    "\n",
    "n_features_optimal = 6\n",
    "\n",
    "m_l_reg = LinearRegression()\n",
    "m_l_reg.fit(x_train, y_train)\n",
    "\n",
    "rfe = RFE(m_l_reg, n_features_to_select=n_features_optimal)             \n",
    "rfe = rfe.fit(x_train, y_train)\n",
    "\n",
    "# predict prices of X_test\n",
    "y_pred = m_l_reg.predict(x_test)\n",
    "r2_score_after = sklearn.metrics.r2_score(y_test, y_pred)\n",
    "\n",
    "print(\" After Grid Search CV , Multiple Linear Regression r2 score is : {}\".format(r2_score_after))"
   ]
  },
  {
   "cell_type": "code",
   "execution_count": 18,
   "id": "cb89b0d6",
   "metadata": {},
   "outputs": [
    {
     "data": {
      "text/plain": [
       "[<matplotlib.lines.Line2D at 0x1438142a520>]"
      ]
     },
     "execution_count": 18,
     "metadata": {},
     "output_type": "execute_result"
    },
    {
     "data": {
      "image/png": "[encoded data removed]",
      "text/plain": [
       "<Figure size 1080x720 with 1 Axes>"
      ]
     },
     "metadata": {},
     "output_type": "display_data"
    }
   ],
   "source": [
    "import seaborn as sns\n",
    "\n",
    "plt.figure(figsize=(15,10))\n",
    "sns.pointplot(x=['Before CV','After CV'], y=[r2_score_before,r2_score_after],color=\"red\")\n",
    "plt.xticks(rotation= 45)\n",
    "plt.xlabel('Grid Search Effect')\n",
    "plt.ylabel('r2 Score',)\n",
    "plt.title('Before and After Grid Search CV')\n",
    "\n",
    "plt.plot([0.9,1.1],[0.8994149873458704,0.8994149873458704],'--',color=\"blue\")\n",
    "plt.plot([-0.1,0.1],[0.8866323652510353,0.8866323652510353],'--',color=\"blue\")\n",
    "\n"
   ]
  },
  {
   "cell_type": "markdown",
   "id": "c9057b6b",
   "metadata": {},
   "source": [
    "<a id = \"7\"></a><br>\n",
    "# Decision Tree Regression "
   ]
  },
  {
   "cell_type": "markdown",
   "id": "f63f1d8a",
   "metadata": {},
   "source": [
    "<a id = \"8\"></a><br>\n",
    "### Decision Tree Regression Before Grid Search CV"
   ]
  },
  {
   "cell_type": "code",
   "execution_count": 19,
   "id": "68000b0a",
   "metadata": {},
   "outputs": [
    {
     "name": "stdout",
     "output_type": "stream",
     "text": [
      " Before Grid Search CV , Decision Tree Regression r2 score is : 0.96948068559621\n"
     ]
    },
    {
     "data": {
      "text/plain": [
       "GridSearchCV(cv=5, estimator=DecisionTreeRegressor(random_state=42),\n",
       "             param_grid={'criterion': ['mse', 'mae'], 'max_depth': range(2, 10),\n",
       "                         'min_samples_leaf': range(1, 10),\n",
       "                         'min_samples_split': range(2, 10)},\n",
       "             scoring='r2')"
      ]
     },
     "execution_count": 19,
     "metadata": {},
     "output_type": "execute_result"
    }
   ],
   "source": [
    "from sklearn.tree import DecisionTreeRegressor\n",
    "dt_reg = DecisionTreeRegressor(random_state=42)\n",
    "dt_reg.fit(x_train,y_train)\n",
    "\n",
    "y_predict2 = dt_reg.predict(x_test)\n",
    "from sklearn.metrics import r2_score\n",
    "r2_dt_before = r2_score(y_predict2,y_test)\n",
    "print(\" Before Grid Search CV , Decision Tree Regression r2 score is : {}\".format(r2_dt_before))\n",
    "\n",
    "from sklearn.model_selection import GridSearchCV\n",
    "\n",
    "parameters={\"criterion\":[\"mse\",\"mae\"],\n",
    "            \"max_depth\" : range(2,10),\n",
    "           \"min_samples_split\":range(2,10),\n",
    "            \"min_samples_leaf\":range(1,10)\n",
    "            }\n",
    "\n",
    "\n",
    "tuning_model = GridSearchCV(estimator=dt_reg,param_grid=parameters,scoring=\"r2\",cv=5)\n",
    "tuning_model.fit(x_train,y_train)\n",
    "\n"
   ]
  },
  {
   "cell_type": "code",
   "execution_count": 23,
   "id": "aff0b017",
   "metadata": {},
   "outputs": [
    {
     "name": "stdout",
     "output_type": "stream",
     "text": [
      "{'criterion': 'mse', 'max_depth': 6, 'min_samples_leaf': 1, 'min_samples_split': 4}\n",
      "-----------------\n",
      "0.9765040363197389\n"
     ]
    }
   ],
   "source": [
    "print(tuning_model.best_params_)\n",
    "print(\"-----------------\")\n",
    "print(tuning_model.best_score_)"
   ]
  },
  {
   "cell_type": "code",
   "execution_count": 21,
   "id": "bc7b0826",
   "metadata": {},
   "outputs": [
    {
     "data": {
      "text/plain": [
       "DecisionTreeRegressor(criterion='mse', max_depth=6, min_samples_split=4)"
      ]
     },
     "execution_count": 21,
     "metadata": {},
     "output_type": "execute_result"
    }
   ],
   "source": [
    "tuned_model = DecisionTreeRegressor(criterion=\"mse\",max_depth=6,min_samples_leaf=1,min_samples_split=4)\n",
    "\n",
    "tuned_model.fit(x_train,y_train)\n"
   ]
  },
  {
   "cell_type": "markdown",
   "id": "35e84495",
   "metadata": {},
   "source": [
    "<a id = \"9\"></a><br>\n",
    "### Decision Tree Regression After Grid Search CV"
   ]
  },
  {
   "cell_type": "code",
   "execution_count": 24,
   "id": "c0610e31",
   "metadata": {},
   "outputs": [
    {
     "name": "stdout",
     "output_type": "stream",
     "text": [
      " After Grid Search CV , Decision Tree Regression r2 score is : 0.977719949398416\n"
     ]
    }
   ],
   "source": [
    "pred_tuned = tuned_model.predict(x_test)\n",
    "\n",
    "from sklearn.metrics import r2_score\n",
    "r2_dt_after = r2_score(pred_tuned,y_test)\n",
    "print(\" After Grid Search CV , Decision Tree Regression r2 score is : {}\".format(r2_dt_after))"
   ]
  },
  {
   "cell_type": "code",
   "execution_count": 25,
   "id": "ce1e001a",
   "metadata": {},
   "outputs": [
    {
     "data": {
      "text/plain": [
       "[<matplotlib.lines.Line2D at 0x143828ab370>]"
      ]
     },
     "execution_count": 25,
     "metadata": {},
     "output_type": "execute_result"
    },
    {
     "data": {
      "image/png": "[encoded data removed]",
      "text/plain": [
       "<Figure size 1080x720 with 1 Axes>"
      ]
     },
     "metadata": {},
     "output_type": "display_data"
    }
   ],
   "source": [
    "plt.figure(figsize=(15,10))\n",
    "sns.pointplot(x=['Before CV','After CV'], y=[r2_dt_before,r2_dt_after],color=\"blue\")\n",
    "plt.xticks(rotation= 45)\n",
    "plt.xlabel('Grid Search Effect')\n",
    "plt.ylabel('r2 Score',)\n",
    "plt.title('Before and After Grid Search CV')\n",
    "\n",
    "plt.plot([0.9,1.1],[0.977719949398416,0.977719949398416],'--',color=\"red\")\n",
    "plt.plot([-0.1,0.1],[0.96948068559621,0.96948068559621],'--',color=\"red\")"
   ]
  },
  {
   "cell_type": "markdown",
   "id": "406856cf",
   "metadata": {},
   "source": [
    "<a id = \"10\"></a><br>\n",
    "# Random Forest Regression"
   ]
  },
  {
   "cell_type": "markdown",
   "id": "bb6503ee",
   "metadata": {},
   "source": [
    "<a id = \"11\"></a><br>\n",
    "### Random Forest Regression Before Grid Search CV"
   ]
  },
  {
   "cell_type": "code",
   "execution_count": 26,
   "id": "e7e6a40b",
   "metadata": {},
   "outputs": [
    {
     "name": "stdout",
     "output_type": "stream",
     "text": [
      " Before Grid Search CV , Random Forest Regression r2 score is : 0.9800436735008617\n"
     ]
    }
   ],
   "source": [
    "from sklearn.ensemble import RandomForestRegressor\n",
    "rf = RandomForestRegressor(random_state=42,n_jobs=-1)\n",
    "rf.fit(x_train,y_train)\n",
    "\n",
    "y_predict3 = rf.predict(x_test)\n",
    "from sklearn.metrics import r2_score\n",
    "print(\" Before Grid Search CV , Random Forest Regression r2 score is : {}\".format(r2_score(y_predict3,y_test)))"
   ]
  },
  {
   "cell_type": "code",
   "execution_count": 27,
   "id": "d5c81e93",
   "metadata": {},
   "outputs": [],
   "source": [
    "from sklearn.model_selection import GridSearchCV\n",
    "\n",
    "parameters={\"max_features\": [1,3,10,20],\n",
    "                \"min_samples_split\":[2,3,10],\n",
    "                \"min_samples_leaf\":[1,3,10],\n",
    "                \"bootstrap\":[False],\n",
    "                \"n_estimators\":[100,300,500],\n",
    "                \"criterion\":[\"mse\"]\n",
    "            }"
   ]
  },
  {
   "cell_type": "code",
   "execution_count": 28,
   "id": "5c290295",
   "metadata": {},
   "outputs": [
    {
     "data": {
      "text/plain": [
       "GridSearchCV(cv=5, estimator=RandomForestRegressor(n_jobs=-1, random_state=42),\n",
       "             param_grid={'bootstrap': [False], 'criterion': ['mse'],\n",
       "                         'max_features': [1, 3, 10, 20],\n",
       "                         'min_samples_leaf': [1, 3, 10],\n",
       "                         'min_samples_split': [2, 3, 10],\n",
       "                         'n_estimators': [100, 300, 500]},\n",
       "             scoring='r2')"
      ]
     },
     "execution_count": 28,
     "metadata": {},
     "output_type": "execute_result"
    }
   ],
   "source": [
    "tuning_model_rf = GridSearchCV(estimator=rf,param_grid=parameters,scoring=\"r2\",cv=5)\n",
    "tuning_model_rf.fit(x_train,y_train)"
   ]
  },
  {
   "cell_type": "code",
   "execution_count": 29,
   "id": "f09adf6d",
   "metadata": {},
   "outputs": [
    {
     "name": "stdout",
     "output_type": "stream",
     "text": [
      "0.9798171088672702\n",
      "-----------------\n",
      "{'bootstrap': False, 'criterion': 'mse', 'max_features': 1, 'min_samples_leaf': 1, 'min_samples_split': 2, 'n_estimators': 500}\n"
     ]
    }
   ],
   "source": [
    "print(tuning_model_rf.best_score_)\n",
    "print(\"-----------------\")\n",
    "print(tuning_model_rf.best_params_)"
   ]
  },
  {
   "cell_type": "code",
   "execution_count": 30,
   "id": "94438f8d",
   "metadata": {},
   "outputs": [
    {
     "data": {
      "text/plain": [
       "RandomForestRegressor(bootstrap=False, criterion='mse', max_features=1,\n",
       "                      n_estimators=500)"
      ]
     },
     "execution_count": 30,
     "metadata": {},
     "output_type": "execute_result"
    }
   ],
   "source": [
    "tuned_model_rf = RandomForestRegressor(n_estimators=500,criterion=\"mse\",bootstrap=False ,max_features=1,min_samples_leaf=1,min_samples_split=2)\n",
    "\n",
    "tuned_model_rf.fit(x_train,y_train)"
   ]
  },
  {
   "cell_type": "markdown",
   "id": "f81ed047",
   "metadata": {},
   "source": [
    "<a id = \"12\"></a><br>\n",
    "### Random Forest Regression After Grid Search CV"
   ]
  },
  {
   "cell_type": "code",
   "execution_count": 31,
   "id": "e42ca5bc",
   "metadata": {},
   "outputs": [
    {
     "name": "stdout",
     "output_type": "stream",
     "text": [
      " After Grid Search CV , Random Forest Regression r2 score is : 0.9858300662235409\n"
     ]
    }
   ],
   "source": [
    "pred_tuned_rf = tuned_model_rf.predict(x_test)\n",
    "\n",
    "from sklearn.metrics import r2_score\n",
    "print(\" After Grid Search CV , Random Forest Regression r2 score is : {}\".format(r2_score(pred_tuned_rf,y_test)))"
   ]
  },
  {
   "cell_type": "code",
   "execution_count": 33,
   "id": "c65611f3",
   "metadata": {},
   "outputs": [
    {
     "data": {
      "text/plain": [
       "[<matplotlib.lines.Line2D at 0x14382dd4fd0>]"
      ]
     },
     "execution_count": 33,
     "metadata": {},
     "output_type": "execute_result"
    },
    {
     "data": {
      "image/png": "[encoded data removed]",
      "text/plain": [
       "<Figure size 1080x720 with 1 Axes>"
      ]
     },
     "metadata": {},
     "output_type": "display_data"
    }
   ],
   "source": [
    "plt.figure(figsize=(15,10))\n",
    "sns.pointplot(x=['Before CV','After CV'], y=[r2_score(y_predict3,y_test),r2_score(pred_tuned_rf,y_test)],color=\"blue\")\n",
    "plt.xticks(rotation= 45)\n",
    "plt.xlabel('Grid Search Effect')\n",
    "plt.ylabel('r2 Score',)\n",
    "plt.title('Before and After Grid Search CV')\n",
    "\n",
    "plt.plot([0.9,1.1],[0.9858300662235409,0.9858300662235409],'--',color=\"red\")\n",
    "plt.plot([-0.1,0.1],[0.9800436735008617,0.9800436735008617],'--',color=\"red\")"
   ]
  },
  {
   "cell_type": "code",
   "execution_count": null,
   "id": "16aba83f",
   "metadata": {},
   "outputs": [],
   "source": []
  },
  {
   "cell_type": "code",
   "execution_count": null,
   "id": "92399461",
   "metadata": {},
   "outputs": [],
   "source": []
  },
  {
   "cell_type": "code",
   "execution_count": null,
   "id": "4f9db26e",
   "metadata": {},
   "outputs": [],
   "source": []
  },
  {
   "cell_type": "code",
   "execution_count": null,
   "id": "fb9b3399",
   "metadata": {},
   "outputs": [],
   "source": []
  }
 ],
 "metadata": {
  "kernelspec": {
   "display_name": "Python 3 (ipykernel)",
   "language": "python",
   "name": "python3"
  },
  "language_info": {
   "codemirror_mode": {
    "name": "ipython",
    "version": 3
   },
   "file_extension": ".py",
   "mimetype": "text/x-python",
   "name": "python",
   "nbconvert_exporter": "python",
   "pygments_lexer": "ipython3",
   "version": "3.8.8"
  }
 },
 "nbformat": 4,
 "nbformat_minor": 5
}
